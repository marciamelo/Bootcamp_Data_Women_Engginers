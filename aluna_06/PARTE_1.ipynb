{
    "metadata": {
        "kernelspec": {
            "name": "SQL",
            "display_name": "SQL",
            "language": "sql"
        },
        "language_info": {
            "name": "sql",
            "version": ""
        }
    },
    "nbformat_minor": 2,
    "nbformat": 4,
    "cells": [
        {
            "cell_type": "markdown",
            "source": [
                "# **_<mark>EXERCÍCIO 1</mark>_**"
            ],
            "metadata": {
                "azdata_cell_guid": "10eec26e-b173-451a-8670-c31abef803cd"
            }
        },
        {
            "cell_type": "markdown",
            "source": [
                "## **CRIANDO O BANCO DE DADOS**"
            ],
            "metadata": {
                "azdata_cell_guid": "a9e0f5c9-307d-49db-81e8-f8a66d7e8b20"
            }
        },
        {
            "cell_type": "code",
            "source": [
                "--CRIAR O DB LOCAL (comando executado no MSSMS)\r\n",
                "--CREATE DATABASE DESAFIO\r\n",
                "--GO\r\n",
                "\r\n",
                "--SELECIONANDO O BANCO DE DADOS\r\n",
                "USE [DESAFIO]\r\n",
                "GO"
            ],
            "metadata": {
                "azdata_cell_guid": "f77b8c75-4586-4969-847b-5d25d252cf2d",
                "tags": []
            },
            "outputs": [
                {
                    "output_type": "display_data",
                    "data": {
                        "text/html": "Commands completed successfully."
                    },
                    "metadata": {}
                },
                {
                    "output_type": "display_data",
                    "data": {
                        "text/html": "Total execution time: 00:00:00.442"
                    },
                    "metadata": {}
                }
            ],
            "execution_count": 1
        },
        {
            "cell_type": "markdown",
            "source": [
                "## **CRIANDO AS TABELAS DIMENSÃO**"
            ],
            "metadata": {
                "azdata_cell_guid": "f2f5cedc-7dba-4150-abad-3e57c22ae593"
            }
        },
        {
            "cell_type": "code",
            "source": [
                "--SELECIONANDO O BANCO DE DADOS\r\n",
                "USE [DESAFIO]\r\n",
                "GO\r\n",
                "\r\n",
                "--CRIANDO A TABELA DIMENSÃO CIDADE\r\n",
                "\r\n",
                "IF NOT EXISTS\r\n",
                "  (SELECT * FROM sysobjects WHERE name='D_Cidade' AND xtype='U')\r\n",
                "CREATE TABLE [dbo].[D_Cidade](\r\n",
                "    [Id_Cidade] [int] IDENTITY(1,1) NOT NULL,\r\n",
                "    [Nome_Cidade] [varchar](60) NULL,\r\n",
                "    [UF] [varchar](2) NULL,\r\n",
                "PRIMARY KEY CLUSTERED \r\n",
                "(\r\n",
                "\t[Id_Cidade] ASC\r\n",
                ")WITH (PAD_INDEX = OFF, STATISTICS_NORECOMPUTE = OFF, IGNORE_DUP_KEY = OFF, ALLOW_ROW_LOCKS = ON, ALLOW_PAGE_LOCKS = ON, OPTIMIZE_FOR_SEQUENTIAL_KEY = OFF) ON [PRIMARY]\r\n",
                ") ON [PRIMARY]\r\n",
                "GO\r\n",
                "\r\n",
                "\r\n",
                "--CRIANDO A TABELA DIMENSÃO VENDEDORES\r\n",
                "\r\n",
                "IF NOT EXISTS\r\n",
                "  (SELECT * FROM sysobjects WHERE name='D_Vendedores' AND xtype='U')\r\n",
                "CREATE TABLE [dbo].[D_Vendedores](\r\n",
                "    [Id_Vendedor] [int] IDENTITY(1,1) NOT NULL,\r\n",
                "    [Nome_Vendedor] [varchar](60) NULL,\r\n",
                "    [Salario] [decimal](10,2) NULL,\r\n",
                "PRIMARY KEY CLUSTERED \r\n",
                "(\r\n",
                "\t[Id_Vendedor] ASC\r\n",
                ")WITH (PAD_INDEX = OFF, STATISTICS_NORECOMPUTE = OFF, IGNORE_DUP_KEY = OFF, ALLOW_ROW_LOCKS = ON, ALLOW_PAGE_LOCKS = ON, OPTIMIZE_FOR_SEQUENTIAL_KEY = OFF) ON [PRIMARY]\r\n",
                ") ON [PRIMARY]\r\n",
                "GO\r\n",
                "\r\n",
                "\r\n",
                "--CRIANDO A TABELA DIMENSÃO CATEGORIA\r\n",
                "\r\n",
                "IF NOT EXISTS\r\n",
                "  (SELECT * FROM sysobjects WHERE name='D_Categoria' AND xtype='U')\r\n",
                "CREATE TABLE [dbo].[D_Categoria](\r\n",
                "    [Id_Categoria] [int] IDENTITY(1,1) NOT NULL,\r\n",
                "    [Nome_Categoria] [varchar](20) NULL,\r\n",
                "PRIMARY KEY CLUSTERED \r\n",
                "(\r\n",
                "\t[Id_Categoria] ASC\r\n",
                ")WITH (PAD_INDEX = OFF, STATISTICS_NORECOMPUTE = OFF, IGNORE_DUP_KEY = OFF, ALLOW_ROW_LOCKS = ON, ALLOW_PAGE_LOCKS = ON, OPTIMIZE_FOR_SEQUENTIAL_KEY = OFF) ON [PRIMARY]\r\n",
                ") ON [PRIMARY]\r\n",
                "GO\r\n",
                "\r\n",
                "\r\n",
                "--CRIANDO A TABELA DIMENSÃO UNIDADE\r\n",
                "\r\n",
                "IF NOT EXISTS\r\n",
                "  (SELECT * FROM sysobjects WHERE name='D_Unidade' AND xtype='U')\r\n",
                "CREATE TABLE [dbo].[D_Unidade](\r\n",
                "    [Id_Unidade] [varchar](3) NOT NULL,\r\n",
                "    [Desc_Unidade] [varchar](25) NULL,\r\n",
                "PRIMARY KEY CLUSTERED \r\n",
                "(\r\n",
                "\t[Id_Unidade] ASC\r\n",
                ")WITH (PAD_INDEX = OFF, STATISTICS_NORECOMPUTE = OFF, IGNORE_DUP_KEY = OFF, ALLOW_ROW_LOCKS = ON, ALLOW_PAGE_LOCKS = ON, OPTIMIZE_FOR_SEQUENTIAL_KEY = OFF) ON [PRIMARY]\r\n",
                ") ON [PRIMARY]\r\n",
                "GO\r\n",
                "\r\n",
                "\r\n",
                "--CRIANDO A TABELA DIMENSÃO PRODUTOS\r\n",
                "\r\n",
                "IF NOT EXISTS\r\n",
                "  (SELECT * FROM sysobjects WHERE name='D_Produtos' AND xtype='U')\r\n",
                "CREATE TABLE [dbo].[D_Produtos](\r\n",
                "    [Id_Prod] [int] IDENTITY(1,1) NOT NULL,\r\n",
                "    [Nome_Prod] [varchar](50) NULL,\r\n",
                "    [Id_Categoria] [int] NOT NULL,\r\n",
                "    [Id_Unidade] [varchar](3) NOT NULL,\r\n",
                "    [Preco] [decimal](10,2) NULL,\r\n",
                "PRIMARY KEY CLUSTERED \r\n",
                "(\r\n",
                "\t[Id_Prod] ASC\r\n",
                ")WITH (PAD_INDEX = OFF, STATISTICS_NORECOMPUTE = OFF, IGNORE_DUP_KEY = OFF, ALLOW_ROW_LOCKS = ON, ALLOW_PAGE_LOCKS = ON, OPTIMIZE_FOR_SEQUENTIAL_KEY = OFF) ON [PRIMARY]\r\n",
                ") ON [PRIMARY]\r\n",
                "GO\r\n",
                "ALTER TABLE [dbo].[D_Produtos]  WITH CHECK ADD  CONSTRAINT [FK_Categ] FOREIGN KEY([Id_Categoria])\r\n",
                "REFERENCES [dbo].[D_Categoria] ([Id_Categoria])\r\n",
                "GO\r\n",
                "ALTER TABLE [dbo].[D_Produtos] CHECK CONSTRAINT [FK_Categ]\r\n",
                "GO\r\n",
                "ALTER TABLE [dbo].[D_Produtos]  WITH CHECK ADD  CONSTRAINT [FK_Unid] FOREIGN KEY([Id_Unidade])\r\n",
                "REFERENCES [dbo].[D_Unidade] ([Id_Unidade])\r\n",
                "GO\r\n",
                "ALTER TABLE [dbo].[D_Produtos] CHECK CONSTRAINT [FK_Unid]\r\n",
                "GO\r\n",
                "\r\n",
                "\r\n",
                "--CRIANDO A TABELA DIMENSÃO CLIENTE\r\n",
                "\r\n",
                "IF NOT EXISTS\r\n",
                "  (SELECT * FROM sysobjects WHERE name='D_Cliente' AND xtype='U')\r\n",
                "CREATE TABLE [dbo].[D_Cliente](\r\n",
                "    [Id_Cliente] [int] IDENTITY(1,1) NOT NULL,\r\n",
                "    [Nome_Cliente] [varchar](60) NULL,\r\n",
                "    [Endereco] [varchar](60) NULL,\r\n",
                "    [Numero] [varchar](10) NOT NULL,\r\n",
                "    [Id_Cidade] [int] NULL,\r\n",
                "    [CEP] [varchar](9) NULL,\r\n",
                "PRIMARY KEY CLUSTERED \r\n",
                "(\r\n",
                "\t[Id_Cliente] ASC\r\n",
                ")WITH (PAD_INDEX = OFF, STATISTICS_NORECOMPUTE = OFF, IGNORE_DUP_KEY = OFF, ALLOW_ROW_LOCKS = ON, ALLOW_PAGE_LOCKS = ON, OPTIMIZE_FOR_SEQUENTIAL_KEY = OFF) ON [PRIMARY]\r\n",
                ") ON [PRIMARY]\r\n",
                "GO\r\n",
                "ALTER TABLE [dbo].[D_Cliente]  WITH CHECK ADD  CONSTRAINT [FK_Cid] FOREIGN KEY([Id_Cidade])\r\n",
                "REFERENCES [dbo].[D_Cidade] ([Id_Cidade])\r\n",
                "GO\r\n",
                "ALTER TABLE [dbo].[D_Cliente] CHECK CONSTRAINT [FK_Cid]\r\n",
                "GO\r\n",
                "\r\n",
                "\r\n",
                "--CRIANDO A TABELA DIMENSÃO VENDAS\r\n",
                "\r\n",
                "IF NOT EXISTS\r\n",
                "  (SELECT * FROM sysobjects WHERE name='D_Vendas' AND xtype='U')\r\n",
                "CREATE TABLE [dbo].[D_Vendas](\r\n",
                "    [Num_Venda] [int] IDENTITY(1,1) NOT NULL,\r\n",
                "    [Data_Venda] [datetime] NULL,\r\n",
                "    [Id_Cliente] [int] NOT NULL,\r\n",
                "    [Id_Vendedor] [int] NOT NULL,\r\n",
                "    [Status] [char](1) NULL,\r\n",
                "PRIMARY KEY CLUSTERED \r\n",
                "(\r\n",
                "\t[Num_Venda] ASC\r\n",
                ")WITH (PAD_INDEX = OFF, STATISTICS_NORECOMPUTE = OFF, IGNORE_DUP_KEY = OFF, ALLOW_ROW_LOCKS = ON, ALLOW_PAGE_LOCKS = ON, OPTIMIZE_FOR_SEQUENTIAL_KEY = OFF) ON [PRIMARY]\r\n",
                ") ON [PRIMARY]\r\n",
                "GO\r\n",
                "ALTER TABLE [dbo].[D_Vendas]  WITH CHECK ADD  CONSTRAINT [FK_Clie] FOREIGN KEY([Id_Cliente])\r\n",
                "REFERENCES [dbo].[D_Cliente] ([Id_Cliente])\r\n",
                "GO\r\n",
                "ALTER TABLE [dbo].[D_Vendas] CHECK CONSTRAINT [FK_Clie]\r\n",
                "GO\r\n",
                "ALTER TABLE [dbo].[D_Vendas]  WITH CHECK ADD  CONSTRAINT [FK_Vended] FOREIGN KEY([Id_Vendedor])\r\n",
                "REFERENCES [dbo].[D_Vendedores] ([Id_Vendedor])\r\n",
                "GO\r\n",
                "ALTER TABLE [dbo].[D_Vendas] CHECK CONSTRAINT [FK_Vended]\r\n",
                "GO"
            ],
            "metadata": {
                "azdata_cell_guid": "882c002e-1999-48fb-a8e7-79dae6299945"
            },
            "outputs": [
                {
                    "output_type": "display_data",
                    "data": {
                        "text/html": "Commands completed successfully."
                    },
                    "metadata": {}
                },
                {
                    "output_type": "display_data",
                    "data": {
                        "text/html": "Commands completed successfully."
                    },
                    "metadata": {}
                },
                {
                    "output_type": "display_data",
                    "data": {
                        "text/html": "Commands completed successfully."
                    },
                    "metadata": {}
                },
                {
                    "output_type": "display_data",
                    "data": {
                        "text/html": "Commands completed successfully."
                    },
                    "metadata": {}
                },
                {
                    "output_type": "display_data",
                    "data": {
                        "text/html": "Commands completed successfully."
                    },
                    "metadata": {}
                },
                {
                    "output_type": "display_data",
                    "data": {
                        "text/html": "Commands completed successfully."
                    },
                    "metadata": {}
                },
                {
                    "output_type": "display_data",
                    "data": {
                        "text/html": "Commands completed successfully."
                    },
                    "metadata": {}
                },
                {
                    "output_type": "display_data",
                    "data": {
                        "text/html": "Commands completed successfully."
                    },
                    "metadata": {}
                },
                {
                    "output_type": "display_data",
                    "data": {
                        "text/html": "Total execution time: 00:00:00.062"
                    },
                    "metadata": {}
                }
            ],
            "execution_count": 2
        },
        {
            "cell_type": "markdown",
            "source": [
                "## **CRIANDO A TABELA FATO**"
            ],
            "metadata": {
                "azdata_cell_guid": "50a4bd8e-6fdc-4b7b-8fb8-1e69932e1f79"
            }
        },
        {
            "cell_type": "code",
            "source": [
                "--SELECIONANDO O BANCO DE DADOS\r\n",
                "USE [DESAFIO]\r\n",
                "GO\r\n",
                "\r\n",
                "IF NOT EXISTS\r\n",
                "  (SELECT * FROM sysobjects WHERE name='Fato_Venda_Itens' AND xtype='U')\r\n",
                "CREATE TABLE [dbo].[Fato_Venda_Itens](\r\n",
                "    [Num_Venda] [int] IDENTITY(1,1) NOT NULL,\r\n",
                "    [Num_Seq] [int] NOT NULL,\r\n",
                "    [Id_Prod] [int] NOT NULL,\r\n",
                "    [Qtde] [decimal](10,2) NULL,\r\n",
                "    [Val_Unit] [decimal](10,2) NULL,\r\n",
                "    [Val_Total] [decimal](10,2) NULL,\r\n",
                "PRIMARY KEY CLUSTERED \r\n",
                "(\r\n",
                "\t[Num_Venda] ASC,\r\n",
                "    [Num_Seq] ASC\r\n",
                ")WITH (PAD_INDEX = OFF, STATISTICS_NORECOMPUTE = OFF, IGNORE_DUP_KEY = OFF, ALLOW_ROW_LOCKS = ON, ALLOW_PAGE_LOCKS = ON, OPTIMIZE_FOR_SEQUENTIAL_KEY = OFF) ON [PRIMARY]\r\n",
                ") ON [PRIMARY]\r\n",
                "GO\r\n",
                "ALTER TABLE [dbo].[Fato_Venda_Itens]  WITH CHECK ADD  CONSTRAINT [FK_VendItem] FOREIGN KEY([Id_Prod])\r\n",
                "REFERENCES [dbo].[D_Produtos] ([Id_Prod])\r\n",
                "GO\r\n",
                "ALTER TABLE [dbo].[Fato_Venda_Itens] CHECK CONSTRAINT [FK_VendItem]\r\n",
                "GO\r\n",
                "ALTER TABLE [dbo].[Fato_Venda_Itens]  WITH CHECK ADD  CONSTRAINT [FK_VendItem2] FOREIGN KEY([Num_Venda])\r\n",
                "REFERENCES [dbo].[D_Vendas] ([Num_Venda])\r\n",
                "GO\r\n",
                "ALTER TABLE [dbo].[Fato_Venda_Itens] CHECK CONSTRAINT [FK_VendItem2]\r\n",
                "GO"
            ],
            "metadata": {
                "azdata_cell_guid": "fc022566-60f6-4d67-977c-b51b1f772ca6"
            },
            "outputs": [
                {
                    "output_type": "display_data",
                    "data": {
                        "text/html": "Commands completed successfully."
                    },
                    "metadata": {}
                },
                {
                    "output_type": "display_data",
                    "data": {
                        "text/html": "Commands completed successfully."
                    },
                    "metadata": {}
                },
                {
                    "output_type": "display_data",
                    "data": {
                        "text/html": "Commands completed successfully."
                    },
                    "metadata": {}
                },
                {
                    "output_type": "display_data",
                    "data": {
                        "text/html": "Commands completed successfully."
                    },
                    "metadata": {}
                },
                {
                    "output_type": "display_data",
                    "data": {
                        "text/html": "Commands completed successfully."
                    },
                    "metadata": {}
                },
                {
                    "output_type": "display_data",
                    "data": {
                        "text/html": "Commands completed successfully."
                    },
                    "metadata": {}
                },
                {
                    "output_type": "display_data",
                    "data": {
                        "text/html": "Total execution time: 00:00:00.008"
                    },
                    "metadata": {}
                }
            ],
            "execution_count": 24
        },
        {
            "cell_type": "markdown",
            "source": [
                "# **<mark>_EXERCÍCIO 2_</mark>**"
            ],
            "metadata": {
                "azdata_cell_guid": "36b50827-3db1-400c-ac7e-000d7221a358"
            }
        },
        {
            "cell_type": "markdown",
            "source": [
                "Banco de dados TREINO restaurado"
            ],
            "metadata": {
                "azdata_cell_guid": "812ff6fd-9d90-4f4c-8680-076d387d8c47"
            }
        },
        {
            "cell_type": "markdown",
            "source": [
                "# **_<mark>EXERCÍCIO 3</mark>_**"
            ],
            "metadata": {
                "azdata_cell_guid": "781786ea-31f0-435f-9f10-bd1697d2d459"
            }
        },
        {
            "cell_type": "markdown",
            "source": [
                "Liste todos os clientes com seus nomes e com suas respectivas cidades e estados"
            ],
            "metadata": {
                "azdata_cell_guid": "2f5ba87a-c476-4003-bcf8-83f8fbde8eae"
            }
        },
        {
            "cell_type": "code",
            "source": [
                "--SELECIONANDO O BANCO DE DADOS\r\n",
                "USE [TREINO]\r\n",
                "GO\r\n",
                "\r\n",
                "\r\n",
                "--LISTA DE CLIENTES\r\n",
                "SELECT CLI.NOME_CLIENTE, CID.NOME_CIDADE AS CIDADE, CID.UF\r\n",
                "FROM [dbo].[CLIENTE] CLI\r\n",
                "INNER JOIN [dbo].[CIDADE] CID\r\n",
                "ON CLI.ID_CIDADE = CID.ID_CIDADE\r\n",
                "ORDER BY 1"
            ],
            "metadata": {
                "azdata_cell_guid": "24d88575-aa95-4c0c-b6b5-b8108fb406de",
                "tags": []
            },
            "outputs": [
                {
                    "output_type": "display_data",
                    "data": {
                        "text/html": "Commands completed successfully."
                    },
                    "metadata": {}
                },
                {
                    "output_type": "display_data",
                    "data": {
                        "text/html": "(10 rows affected)"
                    },
                    "metadata": {}
                },
                {
                    "output_type": "display_data",
                    "data": {
                        "text/html": "Total execution time: 00:00:00.011"
                    },
                    "metadata": {}
                },
                {
                    "output_type": "execute_result",
                    "execution_count": 26,
                    "data": {
                        "application/vnd.dataresource+json": {
                            "schema": {
                                "fields": [
                                    {
                                        "name": "NOME_CLIENTE"
                                    },
                                    {
                                        "name": "CIDADE"
                                    },
                                    {
                                        "name": "UF"
                                    }
                                ]
                            },
                            "data": [
                                {
                                    "0": "Giga 10",
                                    "1": "Campinas",
                                    "2": "SP"
                                },
                                {
                                    "0": "Hiper Giga",
                                    "1": "São Paulo",
                                    "2": "SP"
                                },
                                {
                                    "0": "Hiper Sempre",
                                    "1": "São Paulo",
                                    "2": "SP"
                                },
                                {
                                    "0": "Lojas Mega",
                                    "1": "Jundiai",
                                    "2": "SP"
                                },
                                {
                                    "0": "Lojas Plus",
                                    "1": "Volta Redonda",
                                    "2": "RJ"
                                },
                                {
                                    "0": "Lojas Vitoria",
                                    "1": "Volta Redonda",
                                    "2": "RJ"
                                },
                                {
                                    "0": "Rede Atacado",
                                    "1": "Rio de Janeiro",
                                    "2": "RJ"
                                },
                                {
                                    "0": "Rede mais",
                                    "1": "Niterói",
                                    "2": "RJ"
                                },
                                {
                                    "0": "Rede MercoSul",
                                    "1": "Niterói",
                                    "2": "RJ"
                                },
                                {
                                    "0": "Super Tera",
                                    "1": "Rio de Janeiro",
                                    "2": "RJ"
                                }
                            ]
                        },
                        "text/html": "<table><tr><th>NOME_CLIENTE</th><th>CIDADE</th><th>UF</th></tr><tr><td>Giga 10</td><td>Campinas</td><td>SP</td></tr><tr><td>Hiper Giga</td><td>São Paulo</td><td>SP</td></tr><tr><td>Hiper Sempre</td><td>São Paulo</td><td>SP</td></tr><tr><td>Lojas Mega</td><td>Jundiai</td><td>SP</td></tr><tr><td>Lojas Plus</td><td>Volta Redonda</td><td>RJ</td></tr><tr><td>Lojas Vitoria</td><td>Volta Redonda</td><td>RJ</td></tr><tr><td>Rede Atacado</td><td>Rio de Janeiro</td><td>RJ</td></tr><tr><td>Rede mais</td><td>Niterói</td><td>RJ</td></tr><tr><td>Rede MercoSul</td><td>Niterói</td><td>RJ</td></tr><tr><td>Super Tera</td><td>Rio de Janeiro</td><td>RJ</td></tr></table>"
                    },
                    "metadata": {}
                }
            ],
            "execution_count": 26
        },
        {
            "cell_type": "markdown",
            "source": [
                "# **_<mark>EXERCÍCIO 4</mark>_**"
            ],
            "metadata": {
                "azdata_cell_guid": "158eb663-cbd3-4846-ac4e-31e13f8996f3"
            }
        },
        {
            "cell_type": "markdown",
            "source": [
                "Liste o código do produto, descrição do produto e a descrição das categorias dos produtos que tenham o valor unitário na faixa de R$ 10,00 a R$ 1500"
            ],
            "metadata": {
                "azdata_cell_guid": "104f1ef7-cbfc-4303-9035-05daa47e6fd8"
            }
        },
        {
            "cell_type": "code",
            "source": [
                "--SELECIONANDO O BANCO DE DADOS\r\n",
                "USE [TREINO]\r\n",
                "GO\r\n",
                "\r\n",
                "--LISTA DE PRODUTOS\r\n",
                "SELECT PRD.ID_PROD AS COD_PRODUTO, PRD.NOME_PRODUTO AS DESC_PRODUTO, CAT.NOME_CATEGORIA AS DESC_CATEGORIA\r\n",
                "FROM [dbo].PRODUTOS PRD \r\n",
                "LEFT JOIN [dbo].[CATEGORIA] AS CAT\r\n",
                "ON PRD.ID_CATEGORIA =  CAT.ID_CATEGORIA\r\n",
                "WHERE PRD.PRECO BETWEEN 10 AND 1500\r\n",
                "ORDER BY PRD.ID_PROD"
            ],
            "metadata": {
                "azdata_cell_guid": "8ea37cfe-c885-469e-8112-50364f729462"
            },
            "outputs": [
                {
                    "output_type": "display_data",
                    "data": {
                        "text/html": "Commands completed successfully."
                    },
                    "metadata": {}
                },
                {
                    "output_type": "display_data",
                    "data": {
                        "text/html": "(12 rows affected)"
                    },
                    "metadata": {}
                },
                {
                    "output_type": "display_data",
                    "data": {
                        "text/html": "Total execution time: 00:00:00.009"
                    },
                    "metadata": {}
                },
                {
                    "output_type": "execute_result",
                    "execution_count": 32,
                    "data": {
                        "application/vnd.dataresource+json": {
                            "schema": {
                                "fields": [
                                    {
                                        "name": "COD_PRODUTO"
                                    },
                                    {
                                        "name": "DESC_PRODUTO"
                                    },
                                    {
                                        "name": "DESC_CATEGORIA"
                                    }
                                ]
                            },
                            "data": [
                                {
                                    "0": "1",
                                    "1": "HD 500 1 TB",
                                    "2": "Informática"
                                },
                                {
                                    "0": "2",
                                    "1": "Monitor 17",
                                    "2": "Informática"
                                },
                                {
                                    "0": "3",
                                    "1": "Monitor 15",
                                    "2": "Informática"
                                },
                                {
                                    "0": "4",
                                    "1": "HD SSD 250 GB",
                                    "2": "Informática"
                                },
                                {
                                    "0": "5",
                                    "1": "Teclado",
                                    "2": "Informática"
                                },
                                {
                                    "0": "9",
                                    "1": "TV Plasma 32",
                                    "2": "TV´s"
                                },
                                {
                                    "0": "10",
                                    "1": "Fogao",
                                    "2": "Utilidades do Lar"
                                },
                                {
                                    "0": "11",
                                    "1": "Mixer",
                                    "2": "Eletrodomesticos"
                                },
                                {
                                    "0": "12",
                                    "1": "Batedeira",
                                    "2": "Eletrodomesticos"
                                },
                                {
                                    "0": "13",
                                    "1": "Liquidificador",
                                    "2": "Eletrodomesticos"
                                },
                                {
                                    "0": "14",
                                    "1": "Geladeira",
                                    "2": "Eletrodomesticos"
                                },
                                {
                                    "0": "15",
                                    "1": "Aspirador de pó",
                                    "2": "Utilidades do Lar"
                                }
                            ]
                        },
                        "text/html": "<table><tr><th>COD_PRODUTO</th><th>DESC_PRODUTO</th><th>DESC_CATEGORIA</th></tr><tr><td>1</td><td>HD 500 1 TB</td><td>Informática</td></tr><tr><td>2</td><td>Monitor 17</td><td>Informática</td></tr><tr><td>3</td><td>Monitor 15</td><td>Informática</td></tr><tr><td>4</td><td>HD SSD 250 GB</td><td>Informática</td></tr><tr><td>5</td><td>Teclado</td><td>Informática</td></tr><tr><td>9</td><td>TV Plasma 32</td><td>TV´s</td></tr><tr><td>10</td><td>Fogao</td><td>Utilidades do Lar</td></tr><tr><td>11</td><td>Mixer</td><td>Eletrodomesticos</td></tr><tr><td>12</td><td>Batedeira</td><td>Eletrodomesticos</td></tr><tr><td>13</td><td>Liquidificador</td><td>Eletrodomesticos</td></tr><tr><td>14</td><td>Geladeira</td><td>Eletrodomesticos</td></tr><tr><td>15</td><td>Aspirador de pó</td><td>Utilidades do Lar</td></tr></table>"
                    },
                    "metadata": {}
                }
            ],
            "execution_count": 32
        },
        {
            "cell_type": "markdown",
            "source": [
                "# **_<mark>EXERCÍCIO 5</mark>_**"
            ],
            "metadata": {
                "azdata_cell_guid": "ff98b8dd-4f28-4c7d-a917-98304a785285"
            }
        },
        {
            "cell_type": "markdown",
            "source": [
                "Liste o código do produto, descrição do produto e descrição da categoria dos produtos, e também apresente uma coluna condicional com o nome de \"faixa de preço\"\n",
                "\n",
                "Com os seguintes critérios \n",
                "\n",
                "• preço\\< 500 : valor condicional será igual \"preço abaixo de 500\" \n",
                "\n",
                "• preço \\>= 500 e \\<=1000 valor condicional será igual \"preço entre 500 e 1000\" \n",
                "\n",
                "• preço \\> 1000 : valor condicional será igual \"preço acima de 1000\"."
            ],
            "metadata": {
                "azdata_cell_guid": "ea0f01dc-f8c9-42ac-b387-c1f9030c4ea2"
            }
        },
        {
            "cell_type": "code",
            "source": [
                "--LISTA DE PRODUTOS\r\n",
                "SELECT PRD.ID_PROD AS COD_PRODUTO, PRD.NOME_PRODUTO AS DESC_PRODUTO, CAT.NOME_CATEGORIA AS DESC_CATEGORIA, \r\n",
                "    CASE \r\n",
                "        WHEN PRD.PRECO < 500 THEN 'preço abaixo de 500'\r\n",
                "        WHEN PRD.PRECO BETWEEN 500 AND 1000 THEN 'preço entre 500 e 1000'\r\n",
                "        ELSE 'preço acima de 1000' \r\n",
                "    END AS FAIXA_PRECO\r\n",
                "FROM [dbo].PRODUTOS PRD \r\n",
                "LEFT JOIN [dbo].[CATEGORIA] AS CAT\r\n",
                "ON PRD.ID_CATEGORIA =  CAT.ID_CATEGORIA\r\n",
                "ORDER BY PRD.ID_PROD"
            ],
            "metadata": {
                "azdata_cell_guid": "1041496a-979a-49ce-990c-9bd2f46fe553"
            },
            "outputs": [
                {
                    "output_type": "display_data",
                    "data": {
                        "text/html": "(15 rows affected)"
                    },
                    "metadata": {}
                },
                {
                    "output_type": "display_data",
                    "data": {
                        "text/html": "Total execution time: 00:00:00.022"
                    },
                    "metadata": {}
                },
                {
                    "output_type": "execute_result",
                    "execution_count": 41,
                    "data": {
                        "application/vnd.dataresource+json": {
                            "schema": {
                                "fields": [
                                    {
                                        "name": "COD_PRODUTO"
                                    },
                                    {
                                        "name": "DESC_PRODUTO"
                                    },
                                    {
                                        "name": "DESC_CATEGORIA"
                                    },
                                    {
                                        "name": "FAIXA_PRECO"
                                    }
                                ]
                            },
                            "data": [
                                {
                                    "0": "1",
                                    "1": "HD 500 1 TB",
                                    "2": "Informática",
                                    "3": "preço abaixo de 500"
                                },
                                {
                                    "0": "2",
                                    "1": "Monitor 17",
                                    "2": "Informática",
                                    "3": "preço entre 500 e 1000"
                                },
                                {
                                    "0": "3",
                                    "1": "Monitor 15",
                                    "2": "Informática",
                                    "3": "preço entre 500 e 1000"
                                },
                                {
                                    "0": "4",
                                    "1": "HD SSD 250 GB",
                                    "2": "Informática",
                                    "3": "preço entre 500 e 1000"
                                },
                                {
                                    "0": "5",
                                    "1": "Teclado",
                                    "2": "Informática",
                                    "3": "preço abaixo de 500"
                                },
                                {
                                    "0": "6",
                                    "1": "TV LED 40",
                                    "2": "TV´s",
                                    "3": "preço acima de 1000"
                                },
                                {
                                    "0": "7",
                                    "1": "TV LCD 40",
                                    "2": "TV´s",
                                    "3": "preço acima de 1000"
                                },
                                {
                                    "0": "8",
                                    "1": "SMART TV 4K 50",
                                    "2": "TV´s",
                                    "3": "preço acima de 1000"
                                },
                                {
                                    "0": "9",
                                    "1": "TV Plasma 32",
                                    "2": "TV´s",
                                    "3": "preço acima de 1000"
                                },
                                {
                                    "0": "10",
                                    "1": "Fogao",
                                    "2": "Utilidades do Lar",
                                    "3": "preço entre 500 e 1000"
                                },
                                {
                                    "0": "11",
                                    "1": "Mixer",
                                    "2": "Eletrodomesticos",
                                    "3": "preço abaixo de 500"
                                },
                                {
                                    "0": "12",
                                    "1": "Batedeira",
                                    "2": "Eletrodomesticos",
                                    "3": "preço abaixo de 500"
                                },
                                {
                                    "0": "13",
                                    "1": "Liquidificador",
                                    "2": "Eletrodomesticos",
                                    "3": "preço abaixo de 500"
                                },
                                {
                                    "0": "14",
                                    "1": "Geladeira",
                                    "2": "Eletrodomesticos",
                                    "3": "preço acima de 1000"
                                },
                                {
                                    "0": "15",
                                    "1": "Aspirador de pó",
                                    "2": "Utilidades do Lar",
                                    "3": "preço abaixo de 500"
                                }
                            ]
                        },
                        "text/html": "<table><tr><th>COD_PRODUTO</th><th>DESC_PRODUTO</th><th>DESC_CATEGORIA</th><th>FAIXA_PRECO</th></tr><tr><td>1</td><td>HD 500 1 TB</td><td>Informática</td><td>preço abaixo de 500</td></tr><tr><td>2</td><td>Monitor 17</td><td>Informática</td><td>preço entre 500 e 1000</td></tr><tr><td>3</td><td>Monitor 15</td><td>Informática</td><td>preço entre 500 e 1000</td></tr><tr><td>4</td><td>HD SSD 250 GB</td><td>Informática</td><td>preço entre 500 e 1000</td></tr><tr><td>5</td><td>Teclado</td><td>Informática</td><td>preço abaixo de 500</td></tr><tr><td>6</td><td>TV LED 40</td><td>TV´s</td><td>preço acima de 1000</td></tr><tr><td>7</td><td>TV LCD 40</td><td>TV´s</td><td>preço acima de 1000</td></tr><tr><td>8</td><td>SMART TV 4K 50</td><td>TV´s</td><td>preço acima de 1000</td></tr><tr><td>9</td><td>TV Plasma 32</td><td>TV´s</td><td>preço acima de 1000</td></tr><tr><td>10</td><td>Fogao</td><td>Utilidades do Lar</td><td>preço entre 500 e 1000</td></tr><tr><td>11</td><td>Mixer</td><td>Eletrodomesticos</td><td>preço abaixo de 500</td></tr><tr><td>12</td><td>Batedeira</td><td>Eletrodomesticos</td><td>preço abaixo de 500</td></tr><tr><td>13</td><td>Liquidificador</td><td>Eletrodomesticos</td><td>preço abaixo de 500</td></tr><tr><td>14</td><td>Geladeira</td><td>Eletrodomesticos</td><td>preço acima de 1000</td></tr><tr><td>15</td><td>Aspirador de pó</td><td>Utilidades do Lar</td><td>preço abaixo de 500</td></tr></table>"
                    },
                    "metadata": {}
                }
            ],
            "execution_count": 41
        },
        {
            "cell_type": "code",
            "source": [
                ""
            ],
            "metadata": {
                "azdata_cell_guid": "82f2eaf2-6a55-4488-8269-5f7939546176"
            },
            "outputs": [],
            "execution_count": null
        }
    ]
}